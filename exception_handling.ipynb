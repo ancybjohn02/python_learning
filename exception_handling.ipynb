{
 "cells": [
  {
   "cell_type": "markdown",
   "metadata": {},
   "source": [
    "#### `we're going to make a basic info record `"
   ]
  },
  {
   "cell_type": "code",
   "execution_count": 1,
   "metadata": {},
   "outputs": [],
   "source": [
    "try:\n",
    "    name = input(str(\"enter name : \"))\n",
    "    break\n",
    "except ValueError:\n",
    "    print(\"Error : pls enter a string\")\n",
    "try:\n",
    "    id_number = input(int(\"enter ID No. : \"))\n",
    "    pin_code = input(int(\"input area pin code : \"))\n",
    "    print(\"PLease note that pin code and area code are not the same here!\")\n",
    "    area_code = input(int(\"enter your area code : \"))\n",
    "    break\n",
    "except ValueError:\n",
    "    print(\"pls enter integer value\")"
   ]
  },
  {
   "cell_type": "markdown",
   "metadata": {},
   "source": [
    "#####    `incase any you want to handle all errors without mentioning any particular error and just take care of all the errors at once`"
   ]
  },
  {
   "cell_type": "code",
   "execution_count": null,
   "metadata": {},
   "outputs": [],
   "source": [
    "try:\n",
    "    try:\n",
    "    name = input(str(\"enter name : \"))\n",
    "    break\n",
    "except ValueError:\n",
    "    print(\"Error : pls enter a string\")\n",
    "try:\n",
    "    id_number = input(int(\"enter ID No. : \"))\n",
    "    pin_code = input(int(\"input area pin code : \"))\n",
    "    print(\"PLease note that pin code and area code are not the same here!\")\n",
    "    area_code = input(int(\"enter your area code : \"))\n",
    "    break\n",
    "except ValueError:\n",
    "    print(\"pls enter integer value\")\n",
    "\n",
    "execept Exception as e : \n",
    "    print(\"An error occured!\")\n",
    "# or if you want to print the exact error msg\n",
    "    print(e)"
   ]
  },
  {
   "cell_type": "code",
   "execution_count": null,
   "metadata": {},
   "outputs": [],
   "source": []
  }
 ],
 "metadata": {
  "kernelspec": {
   "display_name": "Python 3",
   "language": "python",
   "name": "python3"
  },
  "language_info": {
   "codemirror_mode": {
    "name": "ipython",
    "version": 3
   },
   "file_extension": ".py",
   "mimetype": "text/x-python",
   "name": "python",
   "nbconvert_exporter": "python",
   "pygments_lexer": "ipython3",
   "version": "3.12.0"
  }
 },
 "nbformat": 4,
 "nbformat_minor": 2
}
